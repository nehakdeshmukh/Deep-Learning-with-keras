{
 "cells": [
  {
   "cell_type": "code",
   "execution_count": 1,
   "id": "500b3417",
   "metadata": {},
   "outputs": [
    {
     "name": "stdout",
     "output_type": "stream",
     "text": [
      "ID                   int64\n",
      "CPU_LOAD             int64\n",
      "MEMORY_LEAK_LOAD     int64\n",
      "DELAY                int64\n",
      "ERROR_1000           int64\n",
      "ERROR_1001           int64\n",
      "ERROR_1002           int64\n",
      "ERROR_1003           int64\n",
      "ROOT_CAUSE          object\n",
      "dtype: object\n"
     ]
    },
    {
     "data": {
      "text/html": [
       "<div>\n",
       "<style scoped>\n",
       "    .dataframe tbody tr th:only-of-type {\n",
       "        vertical-align: middle;\n",
       "    }\n",
       "\n",
       "    .dataframe tbody tr th {\n",
       "        vertical-align: top;\n",
       "    }\n",
       "\n",
       "    .dataframe thead th {\n",
       "        text-align: right;\n",
       "    }\n",
       "</style>\n",
       "<table border=\"1\" class=\"dataframe\">\n",
       "  <thead>\n",
       "    <tr style=\"text-align: right;\">\n",
       "      <th></th>\n",
       "      <th>ID</th>\n",
       "      <th>CPU_LOAD</th>\n",
       "      <th>MEMORY_LEAK_LOAD</th>\n",
       "      <th>DELAY</th>\n",
       "      <th>ERROR_1000</th>\n",
       "      <th>ERROR_1001</th>\n",
       "      <th>ERROR_1002</th>\n",
       "      <th>ERROR_1003</th>\n",
       "      <th>ROOT_CAUSE</th>\n",
       "    </tr>\n",
       "  </thead>\n",
       "  <tbody>\n",
       "    <tr>\n",
       "      <th>0</th>\n",
       "      <td>1</td>\n",
       "      <td>0</td>\n",
       "      <td>0</td>\n",
       "      <td>0</td>\n",
       "      <td>0</td>\n",
       "      <td>1</td>\n",
       "      <td>0</td>\n",
       "      <td>1</td>\n",
       "      <td>MEMORY_LEAK</td>\n",
       "    </tr>\n",
       "    <tr>\n",
       "      <th>1</th>\n",
       "      <td>2</td>\n",
       "      <td>0</td>\n",
       "      <td>0</td>\n",
       "      <td>0</td>\n",
       "      <td>0</td>\n",
       "      <td>0</td>\n",
       "      <td>0</td>\n",
       "      <td>1</td>\n",
       "      <td>MEMORY_LEAK</td>\n",
       "    </tr>\n",
       "    <tr>\n",
       "      <th>2</th>\n",
       "      <td>3</td>\n",
       "      <td>0</td>\n",
       "      <td>1</td>\n",
       "      <td>1</td>\n",
       "      <td>0</td>\n",
       "      <td>0</td>\n",
       "      <td>1</td>\n",
       "      <td>1</td>\n",
       "      <td>MEMORY_LEAK</td>\n",
       "    </tr>\n",
       "    <tr>\n",
       "      <th>3</th>\n",
       "      <td>4</td>\n",
       "      <td>0</td>\n",
       "      <td>1</td>\n",
       "      <td>0</td>\n",
       "      <td>1</td>\n",
       "      <td>1</td>\n",
       "      <td>0</td>\n",
       "      <td>1</td>\n",
       "      <td>MEMORY_LEAK</td>\n",
       "    </tr>\n",
       "    <tr>\n",
       "      <th>4</th>\n",
       "      <td>5</td>\n",
       "      <td>1</td>\n",
       "      <td>1</td>\n",
       "      <td>0</td>\n",
       "      <td>1</td>\n",
       "      <td>0</td>\n",
       "      <td>1</td>\n",
       "      <td>0</td>\n",
       "      <td>NETWORK_DELAY</td>\n",
       "    </tr>\n",
       "  </tbody>\n",
       "</table>\n",
       "</div>"
      ],
      "text/plain": [
       "   ID  CPU_LOAD  MEMORY_LEAK_LOAD  DELAY  ERROR_1000  ERROR_1001  ERROR_1002  \\\n",
       "0   1         0                 0      0           0           1           0   \n",
       "1   2         0                 0      0           0           0           0   \n",
       "2   3         0                 1      1           0           0           1   \n",
       "3   4         0                 1      0           1           1           0   \n",
       "4   5         1                 1      0           1           0           1   \n",
       "\n",
       "   ERROR_1003     ROOT_CAUSE  \n",
       "0           1    MEMORY_LEAK  \n",
       "1           1    MEMORY_LEAK  \n",
       "2           1    MEMORY_LEAK  \n",
       "3           1    MEMORY_LEAK  \n",
       "4           0  NETWORK_DELAY  "
      ]
     },
     "execution_count": 1,
     "metadata": {},
     "output_type": "execute_result"
    }
   ],
   "source": [
    "import pandas as pd\n",
    "import os\n",
    "import tensorflow as tf\n",
    "\n",
    "#Load the data file into a Pandas Dataframe\n",
    "symptom_data = pd.read_csv(\"root_cause_analysis.csv\")\n",
    "\n",
    "#Explore the data loaded\n",
    "print(symptom_data.dtypes)\n",
    "symptom_data.head()"
   ]
  },
  {
   "cell_type": "code",
   "execution_count": 2,
   "id": "3cff89ac",
   "metadata": {},
   "outputs": [
    {
     "data": {
      "text/plain": [
       "1000"
      ]
     },
     "execution_count": 2,
     "metadata": {},
     "output_type": "execute_result"
    }
   ],
   "source": [
    "len(symptom_data)"
   ]
  },
  {
   "cell_type": "code",
   "execution_count": 3,
   "id": "a7971beb",
   "metadata": {},
   "outputs": [],
   "source": [
    "from sklearn import preprocessing "
   ]
  },
  {
   "cell_type": "code",
   "execution_count": 28,
   "id": "b46b54be",
   "metadata": {},
   "outputs": [
    {
     "data": {
      "text/plain": [
       "array([1, 1, 1, 1, 2, 2, 2, 0, 1, 2, 1, 0, 1, 0, 2, 1, 1, 1, 2, 1, 2, 1,\n",
       "       1, 1, 2, 1, 1, 2, 2, 1, 0, 1, 1, 2, 1, 0, 1, 0, 0, 2, 2, 0, 1, 0,\n",
       "       2, 2, 2, 0, 2, 0, 1, 0, 0, 0, 2, 1, 2, 1, 0, 0, 2, 1, 0, 1, 2, 1,\n",
       "       0, 0, 1, 2, 1, 0, 1, 0, 2, 1, 2, 2, 2, 2, 2, 1, 2, 1, 2, 2, 0, 1,\n",
       "       1, 0, 1, 1, 1, 1, 1, 2, 0, 1, 1, 1, 1, 1, 2, 0, 1, 2, 2, 0, 0, 1,\n",
       "       2, 2, 2, 0, 0, 0, 1, 1, 1, 2, 1, 0, 2, 0, 0, 2, 2, 2, 1, 0, 2, 1,\n",
       "       0, 0, 0, 0, 0, 2, 1, 1, 2, 0, 0, 1, 0, 2, 1, 2, 0, 2, 2, 1, 0, 2,\n",
       "       0, 0, 0, 2, 2, 1, 2, 2, 2, 0, 2, 2, 1, 0, 1, 1, 0, 1, 2, 1, 1, 0,\n",
       "       1, 1, 1, 0, 2, 1, 0, 0, 1, 0, 1, 2, 0, 1, 1, 1, 2, 1, 2, 0, 0, 0,\n",
       "       0, 1, 0, 2, 1, 1, 0, 2, 0, 1, 1, 0, 0, 0, 2, 0, 0, 0, 1, 2, 0, 1,\n",
       "       0, 0, 2, 1, 2, 2, 0, 1, 0, 2, 2, 2, 0, 0, 2, 2, 2, 1, 1, 1, 2, 0,\n",
       "       2, 0, 2, 0, 2, 1, 0, 1, 2, 1, 2, 2, 1, 2, 0, 0, 2, 2, 1, 1, 0, 0,\n",
       "       0, 1, 0, 2, 2, 1, 0, 2, 2, 0, 0, 0, 2, 2, 0, 2, 1, 2, 0, 0, 2, 0,\n",
       "       2, 2, 2, 0, 0, 0, 0, 1, 1, 0, 2, 1, 2, 0, 1, 1, 1, 1, 2, 2, 2, 0,\n",
       "       1, 2, 1, 0, 1, 0, 2, 1, 1, 1, 2, 1, 2, 1, 1, 1, 2, 1, 1, 2, 2, 1,\n",
       "       0, 1, 1, 2, 1, 0, 1, 0, 0, 2, 2, 0, 1, 0, 2, 2, 2, 0, 2, 0, 1, 0,\n",
       "       0, 0, 2, 1, 2, 1, 0, 0, 2, 1, 0, 1, 2, 1, 0, 0, 1, 2, 1, 0, 1, 0,\n",
       "       2, 1, 2, 2, 2, 2, 2, 1, 2, 1, 2, 2, 0, 1, 1, 0, 1, 1, 1, 1, 1, 2,\n",
       "       0, 1, 1, 1, 1, 1, 2, 0, 1, 2, 2, 0, 0, 1, 2, 2, 2, 0, 0, 0, 1, 1,\n",
       "       1, 2, 1, 0, 2, 0, 0, 2, 2, 2, 1, 0, 2, 1, 0, 0, 0, 0, 0, 2, 1, 1,\n",
       "       2, 0, 0, 1, 0, 2, 1, 2, 0, 2, 2, 1, 0, 2, 0, 0, 0, 2, 2, 1, 2, 2,\n",
       "       2, 0, 2, 2, 1, 0, 1, 1, 0, 1, 2, 1, 1, 0, 1, 1, 1, 0, 2, 1, 0, 0,\n",
       "       1, 0, 1, 2, 0, 1, 1, 1, 2, 1, 2, 0, 0, 0, 0, 1, 0, 2, 1, 1, 0, 2,\n",
       "       0, 1, 1, 0, 0, 0, 2, 0, 0, 0, 1, 2, 0, 1, 0, 0, 2, 1, 2, 2, 0, 1,\n",
       "       0, 2, 2, 2, 0, 0, 2, 2, 2, 1, 1, 1, 2, 0, 2, 0, 2, 0, 2, 1, 0, 1,\n",
       "       2, 1, 2, 2, 1, 2, 0, 0, 2, 2, 1, 1, 0, 0, 0, 1, 0, 2, 2, 1, 0, 2,\n",
       "       2, 0, 0, 0, 2, 2, 0, 2, 1, 2, 0, 0, 2, 0, 2, 2, 2, 0, 0, 0, 0, 1,\n",
       "       1, 0, 2, 1, 2, 0, 1, 1, 1, 1, 2, 2, 2, 0, 1, 2, 1, 0, 1, 0, 2, 1,\n",
       "       1, 1, 2, 1, 2, 1, 1, 1, 2, 1, 1, 2, 2, 1, 0, 1, 1, 2, 1, 0, 1, 0,\n",
       "       0, 2, 2, 0, 1, 0, 2, 2, 2, 0, 2, 0, 1, 0, 0, 0, 2, 1, 2, 1, 0, 0,\n",
       "       2, 1, 0, 1, 2, 1, 0, 0, 1, 2, 1, 0, 1, 0, 2, 1, 2, 2, 2, 2, 2, 1,\n",
       "       2, 1, 2, 2, 0, 1, 1, 0, 1, 1, 1, 1, 1, 2, 0, 1, 1, 1, 1, 1, 2, 0,\n",
       "       1, 2, 2, 0, 0, 1, 2, 2, 2, 0, 0, 0, 1, 1, 1, 2, 1, 0, 2, 0, 0, 2,\n",
       "       2, 2, 1, 0, 2, 1, 0, 0, 0, 0, 0, 2, 1, 1, 2, 0, 0, 1, 0, 2, 1, 2,\n",
       "       0, 2, 2, 1, 0, 2, 0, 0, 0, 2, 2, 1, 2, 2, 2, 0, 2, 2, 1, 0, 1, 1,\n",
       "       0, 1, 2, 1, 1, 0, 1, 1, 1, 0, 2, 1, 0, 0, 1, 0, 1, 2, 0, 1, 1, 1,\n",
       "       2, 1, 2, 0, 0, 0, 0, 1, 0, 2, 1, 1, 0, 2, 0, 1, 1, 0, 0, 0, 2, 0,\n",
       "       0, 0, 1, 2, 0, 1, 0, 0, 2, 1, 2, 2, 0, 1, 0, 2, 2, 2, 0, 0, 2, 2,\n",
       "       2, 1, 1, 1, 2, 0, 2, 0, 2, 0, 2, 1, 0, 1, 2, 1, 2, 2, 1, 2, 0, 0,\n",
       "       2, 2, 1, 1, 0, 0, 0, 1, 0, 2, 2, 1, 0, 2, 2, 0, 0, 0, 2, 2, 0, 2,\n",
       "       1, 2, 0, 0, 2, 0, 2, 2, 2, 0, 0, 0, 0, 1, 1, 0, 2, 1, 2, 0, 0, 2,\n",
       "       1, 1, 0, 2, 0, 1, 1, 0, 0, 0, 2, 0, 0, 0, 1, 2, 0, 1, 0, 0, 2, 1,\n",
       "       2, 2, 0, 1, 0, 2, 2, 2, 0, 0, 2, 2, 2, 1, 1, 1, 2, 0, 2, 0, 2, 0,\n",
       "       2, 1, 0, 1, 2, 1, 2, 2, 1, 2, 0, 0, 2, 2, 1, 1, 0, 0, 0, 1, 0, 2,\n",
       "       2, 1, 0, 2, 2, 0, 0, 0, 2, 2, 0, 2, 1, 2, 0, 0, 2, 0, 2, 2, 2, 0,\n",
       "       0, 0, 0, 1, 1, 0, 2, 1, 2, 0])"
      ]
     },
     "execution_count": 28,
     "metadata": {},
     "output_type": "execute_result"
    }
   ],
   "source": [
    "Encoder = preprocessing.LabelEncoder()\n",
    "target_var = Encoder.fit_transform(symptom_data[\"ROOT_CAUSE\"])\n",
    "target_var"
   ]
  },
  {
   "cell_type": "code",
   "execution_count": 29,
   "id": "ed7976a0",
   "metadata": {},
   "outputs": [
    {
     "data": {
      "text/plain": [
       "array([[0., 1., 0.],\n",
       "       [0., 1., 0.],\n",
       "       [0., 1., 0.],\n",
       "       ...,\n",
       "       [0., 1., 0.],\n",
       "       [0., 0., 1.],\n",
       "       [1., 0., 0.]], dtype=float32)"
      ]
     },
     "execution_count": 29,
     "metadata": {},
     "output_type": "execute_result"
    }
   ],
   "source": [
    "target_var = tf.keras.utils.to_categorical(target_var)\n",
    "target_var"
   ]
  },
  {
   "cell_type": "code",
   "execution_count": 30,
   "id": "0395d1de",
   "metadata": {},
   "outputs": [
    {
     "data": {
      "text/html": [
       "<div>\n",
       "<style scoped>\n",
       "    .dataframe tbody tr th:only-of-type {\n",
       "        vertical-align: middle;\n",
       "    }\n",
       "\n",
       "    .dataframe tbody tr th {\n",
       "        vertical-align: top;\n",
       "    }\n",
       "\n",
       "    .dataframe thead th {\n",
       "        text-align: right;\n",
       "    }\n",
       "</style>\n",
       "<table border=\"1\" class=\"dataframe\">\n",
       "  <thead>\n",
       "    <tr style=\"text-align: right;\">\n",
       "      <th></th>\n",
       "      <th>CPU_LOAD</th>\n",
       "      <th>MEMORY_LEAK_LOAD</th>\n",
       "      <th>DELAY</th>\n",
       "      <th>ERROR_1000</th>\n",
       "      <th>ERROR_1001</th>\n",
       "      <th>ERROR_1002</th>\n",
       "      <th>ERROR_1003</th>\n",
       "    </tr>\n",
       "  </thead>\n",
       "  <tbody>\n",
       "    <tr>\n",
       "      <th>0</th>\n",
       "      <td>0</td>\n",
       "      <td>0</td>\n",
       "      <td>0</td>\n",
       "      <td>0</td>\n",
       "      <td>1</td>\n",
       "      <td>0</td>\n",
       "      <td>1</td>\n",
       "    </tr>\n",
       "    <tr>\n",
       "      <th>1</th>\n",
       "      <td>0</td>\n",
       "      <td>0</td>\n",
       "      <td>0</td>\n",
       "      <td>0</td>\n",
       "      <td>0</td>\n",
       "      <td>0</td>\n",
       "      <td>1</td>\n",
       "    </tr>\n",
       "    <tr>\n",
       "      <th>2</th>\n",
       "      <td>0</td>\n",
       "      <td>1</td>\n",
       "      <td>1</td>\n",
       "      <td>0</td>\n",
       "      <td>0</td>\n",
       "      <td>1</td>\n",
       "      <td>1</td>\n",
       "    </tr>\n",
       "    <tr>\n",
       "      <th>3</th>\n",
       "      <td>0</td>\n",
       "      <td>1</td>\n",
       "      <td>0</td>\n",
       "      <td>1</td>\n",
       "      <td>1</td>\n",
       "      <td>0</td>\n",
       "      <td>1</td>\n",
       "    </tr>\n",
       "    <tr>\n",
       "      <th>4</th>\n",
       "      <td>1</td>\n",
       "      <td>1</td>\n",
       "      <td>0</td>\n",
       "      <td>1</td>\n",
       "      <td>0</td>\n",
       "      <td>1</td>\n",
       "      <td>0</td>\n",
       "    </tr>\n",
       "    <tr>\n",
       "      <th>...</th>\n",
       "      <td>...</td>\n",
       "      <td>...</td>\n",
       "      <td>...</td>\n",
       "      <td>...</td>\n",
       "      <td>...</td>\n",
       "      <td>...</td>\n",
       "      <td>...</td>\n",
       "    </tr>\n",
       "    <tr>\n",
       "      <th>995</th>\n",
       "      <td>0</td>\n",
       "      <td>0</td>\n",
       "      <td>0</td>\n",
       "      <td>0</td>\n",
       "      <td>0</td>\n",
       "      <td>0</td>\n",
       "      <td>1</td>\n",
       "    </tr>\n",
       "    <tr>\n",
       "      <th>996</th>\n",
       "      <td>0</td>\n",
       "      <td>0</td>\n",
       "      <td>0</td>\n",
       "      <td>1</td>\n",
       "      <td>0</td>\n",
       "      <td>0</td>\n",
       "      <td>0</td>\n",
       "    </tr>\n",
       "    <tr>\n",
       "      <th>997</th>\n",
       "      <td>1</td>\n",
       "      <td>1</td>\n",
       "      <td>1</td>\n",
       "      <td>0</td>\n",
       "      <td>0</td>\n",
       "      <td>0</td>\n",
       "      <td>0</td>\n",
       "    </tr>\n",
       "    <tr>\n",
       "      <th>998</th>\n",
       "      <td>0</td>\n",
       "      <td>1</td>\n",
       "      <td>1</td>\n",
       "      <td>1</td>\n",
       "      <td>1</td>\n",
       "      <td>0</td>\n",
       "      <td>0</td>\n",
       "    </tr>\n",
       "    <tr>\n",
       "      <th>999</th>\n",
       "      <td>1</td>\n",
       "      <td>0</td>\n",
       "      <td>0</td>\n",
       "      <td>0</td>\n",
       "      <td>1</td>\n",
       "      <td>1</td>\n",
       "      <td>0</td>\n",
       "    </tr>\n",
       "  </tbody>\n",
       "</table>\n",
       "<p>1000 rows × 7 columns</p>\n",
       "</div>"
      ],
      "text/plain": [
       "     CPU_LOAD  MEMORY_LEAK_LOAD  DELAY  ERROR_1000  ERROR_1001  ERROR_1002  \\\n",
       "0           0                 0      0           0           1           0   \n",
       "1           0                 0      0           0           0           0   \n",
       "2           0                 1      1           0           0           1   \n",
       "3           0                 1      0           1           1           0   \n",
       "4           1                 1      0           1           0           1   \n",
       "..        ...               ...    ...         ...         ...         ...   \n",
       "995         0                 0      0           0           0           0   \n",
       "996         0                 0      0           1           0           0   \n",
       "997         1                 1      1           0           0           0   \n",
       "998         0                 1      1           1           1           0   \n",
       "999         1                 0      0           0           1           1   \n",
       "\n",
       "     ERROR_1003  \n",
       "0             1  \n",
       "1             1  \n",
       "2             1  \n",
       "3             1  \n",
       "4             0  \n",
       "..          ...  \n",
       "995           1  \n",
       "996           0  \n",
       "997           0  \n",
       "998           0  \n",
       "999           0  \n",
       "\n",
       "[1000 rows x 7 columns]"
      ]
     },
     "execution_count": 30,
     "metadata": {},
     "output_type": "execute_result"
    }
   ],
   "source": [
    "X_data = symptom_data.iloc[:,1:-1]\n",
    "X_data"
   ]
  },
  {
   "cell_type": "code",
   "execution_count": 31,
   "id": "7af40795",
   "metadata": {},
   "outputs": [],
   "source": [
    "from sklearn.model_selection import train_test_split"
   ]
  },
  {
   "cell_type": "code",
   "execution_count": 32,
   "id": "ccd8ddda",
   "metadata": {},
   "outputs": [],
   "source": [
    "X_train,X_test, Y_train,Y_test = train_test_split(X_data,target_var,test_size=0.2)"
   ]
  },
  {
   "cell_type": "code",
   "execution_count": 33,
   "id": "3f8e425a",
   "metadata": {},
   "outputs": [
    {
     "data": {
      "text/plain": [
       "array([[1., 0., 0.],\n",
       "       [0., 0., 1.],\n",
       "       [0., 1., 0.],\n",
       "       ...,\n",
       "       [0., 0., 1.],\n",
       "       [0., 0., 1.],\n",
       "       [1., 0., 0.]], dtype=float32)"
      ]
     },
     "execution_count": 33,
     "metadata": {},
     "output_type": "execute_result"
    }
   ],
   "source": [
    "Y_train"
   ]
  },
  {
   "cell_type": "code",
   "execution_count": 36,
   "id": "a0f5bf83",
   "metadata": {},
   "outputs": [
    {
     "name": "stdout",
     "output_type": "stream",
     "text": [
      "Model: \"sequential_3\"\n",
      "_________________________________________________________________\n",
      " Layer (type)                Output Shape              Param #   \n",
      "=================================================================\n",
      " HL-1 (Dense)                (None, 256)               2048      \n",
      "                                                                 \n",
      " HL-2 (Dense)                (None, 256)               65792     \n",
      "                                                                 \n",
      " OL (Dense)                  (None, 3)                 771       \n",
      "                                                                 \n",
      "=================================================================\n",
      "Total params: 68,611\n",
      "Trainable params: 68,611\n",
      "Non-trainable params: 0\n",
      "_________________________________________________________________\n"
     ]
    }
   ],
   "source": [
    "from tensorflow import keras\n",
    "\n",
    "NB_classes = 3\n",
    "\n",
    "model= tf.keras.Sequential()\n",
    "model.add(keras.layers.Dense(256,input_shape=(7,),\n",
    "                                name='HL-1',\n",
    "                            activation='relu'))\n",
    "\n",
    "model.add(keras.layers.Dense(256, name= 'HL-2',\n",
    "                             activation='relu'))\n",
    "\n",
    "model.add(keras.layers.Dense(NB_classes, name='OL',\n",
    "                             activation='softmax'))\n",
    "\n",
    "model.compile(loss='categorical_crossentropy',metrics=['accuracy'])\n",
    "\n",
    "model.summary()"
   ]
  },
  {
   "cell_type": "code",
   "execution_count": 42,
   "id": "dc8a8235",
   "metadata": {},
   "outputs": [
    {
     "name": "stdout",
     "output_type": "stream",
     "text": [
      "Epoch 1/20\n",
      "10/10 [==============================] - 0s 4ms/step - loss: 0.2464 - accuracy: 0.8875 - val_loss: 0.4251 - val_accuracy: 0.7937\n",
      "Epoch 2/20\n",
      "10/10 [==============================] - 0s 5ms/step - loss: 0.2458 - accuracy: 0.8875 - val_loss: 0.4298 - val_accuracy: 0.7937\n",
      "Epoch 3/20\n",
      "10/10 [==============================] - 0s 4ms/step - loss: 0.2457 - accuracy: 0.8875 - val_loss: 0.4382 - val_accuracy: 0.7937\n",
      "Epoch 4/20\n",
      "10/10 [==============================] - 0s 4ms/step - loss: 0.2469 - accuracy: 0.8875 - val_loss: 0.4315 - val_accuracy: 0.7937\n",
      "Epoch 5/20\n",
      "10/10 [==============================] - 0s 4ms/step - loss: 0.2478 - accuracy: 0.8875 - val_loss: 0.4371 - val_accuracy: 0.7937\n",
      "Epoch 6/20\n",
      "10/10 [==============================] - 0s 5ms/step - loss: 0.2480 - accuracy: 0.8875 - val_loss: 0.4333 - val_accuracy: 0.7937\n",
      "Epoch 7/20\n",
      "10/10 [==============================] - 0s 4ms/step - loss: 0.2469 - accuracy: 0.8875 - val_loss: 0.4370 - val_accuracy: 0.7937\n",
      "Epoch 8/20\n",
      "10/10 [==============================] - 0s 4ms/step - loss: 0.2493 - accuracy: 0.8875 - val_loss: 0.4398 - val_accuracy: 0.7937\n",
      "Epoch 9/20\n",
      "10/10 [==============================] - 0s 4ms/step - loss: 0.2455 - accuracy: 0.8875 - val_loss: 0.4291 - val_accuracy: 0.7937\n",
      "Epoch 10/20\n",
      "10/10 [==============================] - 0s 4ms/step - loss: 0.2460 - accuracy: 0.8875 - val_loss: 0.4407 - val_accuracy: 0.7937\n",
      "Epoch 11/20\n",
      "10/10 [==============================] - 0s 4ms/step - loss: 0.2488 - accuracy: 0.8875 - val_loss: 0.4374 - val_accuracy: 0.7937\n",
      "Epoch 12/20\n",
      "10/10 [==============================] - 0s 4ms/step - loss: 0.2480 - accuracy: 0.8875 - val_loss: 0.4324 - val_accuracy: 0.7937\n",
      "Epoch 13/20\n",
      "10/10 [==============================] - 0s 4ms/step - loss: 0.2441 - accuracy: 0.8875 - val_loss: 0.4394 - val_accuracy: 0.7937\n",
      "Epoch 14/20\n",
      "10/10 [==============================] - 0s 4ms/step - loss: 0.2465 - accuracy: 0.8875 - val_loss: 0.4306 - val_accuracy: 0.7937\n",
      "Epoch 15/20\n",
      "10/10 [==============================] - 0s 4ms/step - loss: 0.2460 - accuracy: 0.8875 - val_loss: 0.4362 - val_accuracy: 0.7937\n",
      "Epoch 16/20\n",
      "10/10 [==============================] - 0s 5ms/step - loss: 0.2454 - accuracy: 0.8875 - val_loss: 0.4371 - val_accuracy: 0.7937\n",
      "Epoch 17/20\n",
      "10/10 [==============================] - 0s 4ms/step - loss: 0.2459 - accuracy: 0.8875 - val_loss: 0.4258 - val_accuracy: 0.7937\n",
      "Epoch 18/20\n",
      "10/10 [==============================] - 0s 4ms/step - loss: 0.2468 - accuracy: 0.8875 - val_loss: 0.4260 - val_accuracy: 0.7937\n",
      "Epoch 19/20\n",
      "10/10 [==============================] - 0s 4ms/step - loss: 0.2474 - accuracy: 0.8875 - val_loss: 0.4303 - val_accuracy: 0.7937\n",
      "Epoch 20/20\n",
      "10/10 [==============================] - 0s 4ms/step - loss: 0.2559 - accuracy: 0.8859 - val_loss: 0.4657 - val_accuracy: 0.7937\n",
      "7/7 [==============================] - 0s 1ms/step - loss: 0.3766 - accuracy: 0.8700\n"
     ]
    },
    {
     "data": {
      "text/plain": [
       "[0.37660953402519226, 0.8700000047683716]"
      ]
     },
     "execution_count": 42,
     "metadata": {},
     "output_type": "execute_result"
    },
    {
     "data": {
      "image/png": "[encoded data removed]",
      "text/plain": [
       "<Figure size 800x500 with 1 Axes>"
      ]
     },
     "metadata": {},
     "output_type": "display_data"
    }
   ],
   "source": [
    "verbose=1\n",
    "epoch=20\n",
    "batch= 64\n",
    "validation_split=0.2\n",
    "\n",
    "history = model.fit(X_train,Y_train,verbose=verbose,epochs=epoch,batch_size=batch,validation_split=validation_split)\n",
    "\n",
    "import matplotlib.pyplot as plt\n",
    "\n",
    "pd.DataFrame(history.history)[\"accuracy\"].plot(figsize=(8, 5))\n",
    "\n",
    "model.evaluate(X_test,Y_test)"
   ]
  },
  {
   "cell_type": "code",
   "execution_count": null,
   "id": "c409a6fd",
   "metadata": {},
   "outputs": [],
   "source": []
  }
 ],
 "metadata": {
  "kernelspec": {
   "display_name": "Python 3 (ipykernel)",
   "language": "python",
   "name": "python3"
  },
  "language_info": {
   "codemirror_mode": {
    "name": "ipython",
    "version": 3
   },
   "file_extension": ".py",
   "mimetype": "text/x-python",
   "name": "python",
   "nbconvert_exporter": "python",
   "pygments_lexer": "ipython3",
   "version": "3.10.9"
  }
 },
 "nbformat": 4,
 "nbformat_minor": 5
}
